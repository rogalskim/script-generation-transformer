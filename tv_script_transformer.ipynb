{
 "cells": [
  {
   "cell_type": "markdown",
   "metadata": {},
   "source": [
    "# TV Script Generation\n",
    "\n",
    "In this project, you'll generate your own [Seinfeld](https://en.wikipedia.org/wiki/Seinfeld) TV scripts using RNNs.  You'll be using part of the [Seinfeld dataset](https://www.kaggle.com/thec03u5/seinfeld-chronicles#scripts.csv) of scripts from 9 seasons.  The Neural Network you'll build will generate a new ,\"fake\" TV script, based on patterns it recognizes in this training data.\n",
    "\n",
    "## Get the Data\n",
    "\n",
    "The data is already provided for you in `./data/Seinfeld_Scripts.txt` and you're encouraged to open that file and look at the text. \n",
    ">* As a first step, we'll load in this data and look at some samples. \n",
    "* Then, you'll be tasked with defining and training an RNN to generate a new script!"
   ]
  },
  {
   "cell_type": "code",
   "execution_count": 2,
   "metadata": {},
   "outputs": [],
   "source": [
    "from collections import Counter\n",
    "import math\n",
    "\n",
    "import numpy as np\n",
    "import torch\n",
    "import torch.nn as nn\n",
    "from torch.utils.data import TensorDataset, DataLoader\n",
    "import torch.nn.functional as F\n",
    "\n",
    "import helper"
   ]
  },
  {
   "cell_type": "code",
   "execution_count": 3,
   "metadata": {},
   "outputs": [
    {
     "name": "stdout",
     "output_type": "stream",
     "text": [
      "cuda\n"
     ]
    }
   ],
   "source": [
    "def get_local_device() -> torch.device:\n",
    "    available_device = \"cuda\" if torch.cuda.is_available() else \"cpu\"\n",
    "    return torch.device(available_device)\n",
    "\n",
    "device = get_local_device()\n",
    "print(device)"
   ]
  },
  {
   "cell_type": "code",
   "execution_count": 4,
   "metadata": {},
   "outputs": [],
   "source": [
    "\"\"\"\n",
    "DON'T MODIFY ANYTHING IN THIS CELL\n",
    "\"\"\"\n",
    "# load in data\n",
    "data_dir = './data/Seinfeld_Scripts.txt'\n",
    "text = helper.load_data(data_dir)"
   ]
  },
  {
   "cell_type": "markdown",
   "metadata": {},
   "source": [
    "## Explore the Data\n",
    "Play around with `view_line_range` to view different parts of the data. This will give you a sense of the data you'll be working with. You can see, for example, that it is all lowercase text, and each new line of dialogue is separated by a newline character `\\n`."
   ]
  },
  {
   "cell_type": "code",
   "execution_count": 5,
   "metadata": {},
   "outputs": [
    {
     "name": "stdout",
     "output_type": "stream",
     "text": [
      "Dataset Stats\n",
      "Roughly the number of unique words: 46367\n",
      "Number of lines: 109233\n",
      "Average number of words in each line: 11.088582100483375\n",
      "Median number of words in each line: 8.0\n",
      "\n",
      "The lines 100100 to 100110:\n",
      "elaine: well, it's funny. i mean, you have a big head. or is it 'cause of your neck? \n",
      "\n",
      "jerry: no, i think the head does most of the stretching. \n",
      "\n",
      "george: regardless. i had to walk around for the rest of the party in some cheap metlife windbreaker. now, it is payback time. \n",
      "\n",
      "elaine: i really think it's the size of your neck. \n",
      "\n",
      "george: it's my head! \n",
      "\n"
     ]
    }
   ],
   "source": [
    "view_line_range = (100100, 100110)\n",
    "\n",
    "print('Dataset Stats')\n",
    "print('Roughly the number of unique words: {}'.format(len({word: None for word in text.split()})))\n",
    "\n",
    "lines = text.split('\\n')\n",
    "print('Number of lines: {}'.format(len(lines)))\n",
    "word_count_line = [len(line.split()) for line in lines]\n",
    "word_count_line = [count for count in word_count_line if count != 0]\n",
    "print('Average number of words in each line: {}'.format(np.average(word_count_line)))\n",
    "print('Median number of words in each line: {}'.format(np.median(word_count_line)))\n",
    "\n",
    "print()\n",
    "print('The lines {} to {}:'.format(*view_line_range))\n",
    "print('\\n'.join(text.split('\\n')[view_line_range[0]:view_line_range[1]]))"
   ]
  },
  {
   "cell_type": "markdown",
   "metadata": {},
   "source": [
    "---\n",
    "## Implement Pre-processing Functions\n",
    "The first thing to do to any dataset is pre-processing.  Implement the following pre-processing functions below:\n",
    "- Lookup Table\n",
    "- Tokenize Punctuation\n",
    "\n",
    "### Lookup Table\n",
    "To create a word embedding, you first need to transform the words to ids.  In this function, create two dictionaries:\n",
    "- Dictionary to go from the words to an id, we'll call `vocab_to_int`\n",
    "- Dictionary to go from the id to word, we'll call `int_to_vocab`\n",
    "\n",
    "Return these dictionaries in the following **tuple** `(vocab_to_int, int_to_vocab)`"
   ]
  },
  {
   "cell_type": "code",
   "execution_count": 6,
   "metadata": {},
   "outputs": [],
   "source": [
    "def get_unique_words_sorted_by_frequency(text: list) -> list:\n",
    "    word_counts = Counter(text)\n",
    "    sorted_counts = word_counts.most_common()\n",
    "    sorted_words = dict(sorted_counts).keys()\n",
    "    return sorted_words\n",
    "\n",
    "\n",
    "def create_lookup_tables(text):\n",
    "    \"\"\"\n",
    "    Create lookup tables for vocabulary\n",
    "    :param text: The text of tv scripts split into words\n",
    "    :return: A tuple of dicts (vocab_to_int, int_to_vocab)\n",
    "    \"\"\"\n",
    "    vocabulary = get_unique_words_sorted_by_frequency(text)\n",
    "    int_to_vocab = dict(enumerate(vocabulary))\n",
    "    vocab_to_int = dict(zip(int_to_vocab.values(), int_to_vocab.keys()))\n",
    "    return (vocab_to_int, int_to_vocab)"
   ]
  },
  {
   "cell_type": "markdown",
   "metadata": {},
   "source": [
    "### Tokenize Punctuation\n",
    "We'll be splitting the script into a word array using spaces as delimiters.  However, punctuations like periods and exclamation marks can create multiple ids for the same word. For example, \"bye\" and \"bye!\" would generate two different word ids.\n",
    "\n",
    "Implement the function `token_lookup` to return a dict that will be used to tokenize symbols like \"!\" into \"||Exclamation_Mark||\".  Create a dictionary for the following symbols where the symbol is the key and value is the token:\n",
    "- Period ( **.** )\n",
    "- Comma ( **,** )\n",
    "- Quotation Mark ( **\"** )\n",
    "- Semicolon ( **;** )\n",
    "- Exclamation mark ( **!** )\n",
    "- Question mark ( **?** )\n",
    "- Left Parentheses ( **(** )\n",
    "- Right Parentheses ( **)** )\n",
    "- Dash ( **-** )\n",
    "- Return ( **\\n** )\n",
    "\n",
    "This dictionary will be used to tokenize the symbols and add the delimiter (space) around it.  This separates each symbols as its own word, making it easier for the neural network to predict the next word. Make sure you don't use a value that could be confused as a word; for example, instead of using the value \"dash\", try using something like \"||dash||\"."
   ]
  },
  {
   "cell_type": "code",
   "execution_count": 7,
   "metadata": {},
   "outputs": [],
   "source": [
    "def token_lookup():\n",
    "    \"\"\"\n",
    "    Generate a dict to turn punctuation into a token.\n",
    "    :return: Tokenized dictionary where the key is the punctuation and the value is the token\n",
    "    \"\"\"\n",
    "    punctuation_tokens = {'.': \"<PERIOD>\",\n",
    "                          ',': \"<COMMA>\",\n",
    "                          '\"': \"<QUOTE>\",\n",
    "                          ';': \"<SEMICOLON>\",\n",
    "                          '!': \"<EXCLAMATION>\",\n",
    "                          '?': \"<QUESTION>\",\n",
    "                          '(': \"<LPARANTHESES>\",\n",
    "                          ')': \"<RPARANTHESES>\",\n",
    "                          '-': \"<DASH>\",\n",
    "                          '\\n': \"<RETURN>\"}\n",
    "    return punctuation_tokens"
   ]
  },
  {
   "cell_type": "markdown",
   "metadata": {},
   "source": [
    "## Pre-process all the data and save it\n",
    "\n",
    "Running the code cell below will pre-process all the data and save it to file. You're encouraged to look at the code for `preprocess_and_save_data` in the `helpers.py` file to see what it's doing in detail, but you do not need to change this code."
   ]
  },
  {
   "cell_type": "code",
   "execution_count": 8,
   "metadata": {},
   "outputs": [],
   "source": [
    "# pre-process training data\n",
    "helper.preprocess_and_save_data(data_dir, token_lookup, create_lookup_tables)"
   ]
  },
  {
   "cell_type": "markdown",
   "metadata": {},
   "source": [
    "# Check Point\n",
    "This is your first checkpoint. If you ever decide to come back to this notebook or have to restart the notebook, you can start from here. The preprocessed data has been saved to disk."
   ]
  },
  {
   "cell_type": "code",
   "execution_count": 9,
   "metadata": {},
   "outputs": [],
   "source": [
    "import helper\n",
    "\n",
    "int_text, vocab_to_int, int_to_vocab, token_dict = helper.load_preprocess()"
   ]
  },
  {
   "cell_type": "markdown",
   "metadata": {},
   "source": [
    "## Input\n",
    "Let's start with the preprocessed input data. We'll use [TensorDataset](http://pytorch.org/docs/master/data.html#torch.utils.data.TensorDataset) to provide a known format to our dataset; in combination with [DataLoader](http://pytorch.org/docs/master/data.html#torch.utils.data.DataLoader), it will handle batching, shuffling, and other dataset iteration functions.\n",
    "\n",
    "You can create data with TensorDataset by passing in feature and target tensors. Then create a DataLoader as usual.\n",
    "```\n",
    "data = TensorDataset(feature_tensors, target_tensors)\n",
    "data_loader = torch.utils.data.DataLoader(data, \n",
    "                                          batch_size=batch_size)\n",
    "```\n",
    "\n",
    "### Batching\n",
    "Implement the `batch_data` function to batch `words` data into chunks of size `batch_size` using the `TensorDataset` and `DataLoader` classes.\n",
    "\n",
    ">You can batch words using the DataLoader, but it will be up to you to create `feature_tensors` and `target_tensors` of the correct size and content for a given `sequence_length`.\n",
    "\n",
    "For example, say we have these as input:\n",
    "```\n",
    "words = [1, 2, 3, 4, 5, 6, 7]\n",
    "sequence_length = 4\n",
    "```\n",
    "\n",
    "Your first `feature_tensor` should contain the values:\n",
    "```\n",
    "[1, 2, 3, 4]\n",
    "```\n",
    "And the corresponding `target_tensor` should just be the next \"word\"/tokenized word value:\n",
    "```\n",
    "5\n",
    "```\n",
    "This should continue with the second `feature_tensor`, `target_tensor` being:\n",
    "```\n",
    "[2, 3, 4, 5]  # features\n",
    "6             # target\n",
    "```"
   ]
  },
  {
   "cell_type": "code",
   "execution_count": 10,
   "metadata": {},
   "outputs": [
    {
     "name": "stdout",
     "output_type": "stream",
     "text": [
      "[24, 22, 47, 1, 1, 1, 17, 47, 22, 82, 20, 6]\n",
      "([24, 22, 47, 1, 1, 1, 17, 47, 22, 82], 20)\n",
      "([22, 47, 1, 1, 1, 17, 47, 22, 82, 20], 6)\n"
     ]
    },
    {
     "data": {
      "text/plain": [
       "(tensor([[24, 22, 47,  1,  1,  1, 17, 47, 22, 82],\n",
       "         [22, 47,  1,  1,  1, 17, 47, 22, 82, 20]]),\n",
       " tensor([20,  6]))"
      ]
     },
     "execution_count": 10,
     "metadata": {},
     "output_type": "execute_result"
    }
   ],
   "source": [
    "def get_next_data_sequence(words: list, sequence_length: int) -> (list, int):\n",
    "    word_count = len(words)\n",
    "    scan_index = 0\n",
    "    last_scan_index = word_count - sequence_length -1\n",
    "    \n",
    "    while scan_index <= last_scan_index:\n",
    "        features = words[scan_index:scan_index+sequence_length]\n",
    "        target = words[scan_index+sequence_length]\n",
    "        scan_index += 1\n",
    "        yield features, target\n",
    "\n",
    "\n",
    "def build_data_tensors(words: list, sequence_length: int) -> (torch.Tensor, torch.Tensor):\n",
    "    features_list, targets_list = [], []\n",
    "    for features, targets in get_next_data_sequence(words, sequence_length):\n",
    "        features_list.append(features)\n",
    "        targets_list.append(targets)\n",
    "        \n",
    "    features_tensor = torch.LongTensor(features_list)\n",
    "    targets_tensor = torch.LongTensor(targets_list)\n",
    "    return features_tensor, targets_tensor\n",
    "\n",
    "\n",
    "def batch_data(words, sequence_length, batch_size):\n",
    "    \"\"\"\n",
    "    Batch the neural network data using DataLoader\n",
    "    :param words: The word ids of the TV scripts\n",
    "    :param sequence_length: The sequence length of each batch\n",
    "    :param batch_size: The size of each batch; the number of sequences in a batch\n",
    "    :return: DataLoader with batched data\n",
    "    \"\"\"\n",
    "    features, targets = build_data_tensors(words, sequence_length)\n",
    "    data = TensorDataset(features, targets)\n",
    "    loader = DataLoader(dataset=data, batch_size=batch_size, shuffle=True)\n",
    "    return loader\n",
    "\n",
    "# there is no test for this function, but you are encouraged to create\n",
    "# print statements and tests of your own\n",
    "\n",
    "data = int_text[:12]\n",
    "print(data)\n",
    "gen = get_next_data_sequence(data, 10)\n",
    "print(next(gen))\n",
    "print(next(gen))\n",
    "build_data_tensors(data, 10)"
   ]
  },
  {
   "cell_type": "markdown",
   "metadata": {},
   "source": [
    "### Test your dataloader \n",
    "\n",
    "You'll have to modify this code to test a batching function, but it should look fairly similar.\n",
    "\n",
    "Below, we're generating some test text data and defining a dataloader using the function you defined, above. Then, we are getting some sample batch of inputs `sample_x` and targets `sample_y` from our dataloader.\n",
    "\n",
    "Your code should return something like the following (likely in a different order, if you shuffled your data):\n",
    "\n",
    "```\n",
    "torch.Size([10, 5])\n",
    "tensor([[ 28,  29,  30,  31,  32],\n",
    "        [ 21,  22,  23,  24,  25],\n",
    "        [ 17,  18,  19,  20,  21],\n",
    "        [ 34,  35,  36,  37,  38],\n",
    "        [ 11,  12,  13,  14,  15],\n",
    "        [ 23,  24,  25,  26,  27],\n",
    "        [  6,   7,   8,   9,  10],\n",
    "        [ 38,  39,  40,  41,  42],\n",
    "        [ 25,  26,  27,  28,  29],\n",
    "        [  7,   8,   9,  10,  11]])\n",
    "\n",
    "torch.Size([10])\n",
    "tensor([ 33,  26,  22,  39,  16,  28,  11,  43,  30,  12])\n",
    "```\n",
    "\n",
    "### Sizes\n",
    "Your sample_x should be of size `(batch_size, sequence_length)` or (10, 5) in this case and sample_y should just have one dimension: batch_size (10). \n",
    "\n",
    "### Values\n",
    "\n",
    "You should also notice that the targets, sample_y, are the *next* value in the ordered test_text data. So, for an input sequence `[ 28,  29,  30,  31,  32]` that ends with the value `32`, the corresponding output should be `33`."
   ]
  },
  {
   "cell_type": "code",
   "execution_count": 11,
   "metadata": {},
   "outputs": [
    {
     "name": "stdout",
     "output_type": "stream",
     "text": [
      "torch.Size([10, 5])\n",
      "tensor([[18, 19, 20, 21, 22],\n",
      "        [43, 44, 45, 46, 47],\n",
      "        [ 0,  1,  2,  3,  4],\n",
      "        [ 5,  6,  7,  8,  9],\n",
      "        [26, 27, 28, 29, 30],\n",
      "        [30, 31, 32, 33, 34],\n",
      "        [42, 43, 44, 45, 46],\n",
      "        [35, 36, 37, 38, 39],\n",
      "        [13, 14, 15, 16, 17],\n",
      "        [16, 17, 18, 19, 20]])\n",
      "\n",
      "torch.Size([10])\n",
      "tensor([23, 48,  5, 10, 31, 35, 47, 40, 18, 21])\n"
     ]
    }
   ],
   "source": [
    "# test dataloader\n",
    "\n",
    "test_text = range(50)\n",
    "t_loader = batch_data(test_text, sequence_length=5, batch_size=10)\n",
    "\n",
    "data_iter = iter(t_loader)\n",
    "sample_x, sample_y = data_iter.next()\n",
    "\n",
    "print(sample_x.shape)\n",
    "print(sample_x)\n",
    "print()\n",
    "print(sample_y.shape)\n",
    "print(sample_y)"
   ]
  },
  {
   "cell_type": "markdown",
   "metadata": {},
   "source": [
    "---\n",
    "## Build the Neural Network\n",
    "Implement an RNN using PyTorch's [Module class](http://pytorch.org/docs/master/nn.html#torch.nn.Module). You may choose to use a GRU or an LSTM. To complete the RNN, you'll have to implement the following functions for the class:\n",
    " - `__init__` - The initialize function. \n",
    " - `init_hidden` - The initialization function for an LSTM/GRU hidden state\n",
    " - `forward` - Forward propagation function.\n",
    " \n",
    "The initialize function should create the layers of the neural network and save them to the class. The forward propagation function will use these layers to run forward propagation and generate an output and a hidden state.\n",
    "\n",
    "**The output of this model should be the *last* batch of word scores** after a complete sequence has been processed. That is, for each input sequence of words, we only want to output the word scores for a single, most likely, next word.\n",
    "\n",
    "### Hints\n",
    "\n",
    "1. Make sure to stack the outputs of the lstm to pass to your fully-connected layer, you can do this with `lstm_output = lstm_output.contiguous().view(-1, self.hidden_dim)`\n",
    "2. You can get the last batch of word scores by shaping the output of the final, fully-connected layer like so:\n",
    "\n",
    "```\n",
    "# reshape into (batch_size, seq_length, output_size)\n",
    "output = output.view(batch_size, -1, self.output_size)\n",
    "# get last batch\n",
    "out = output[:, -1]\n",
    "```"
   ]
  },
  {
   "cell_type": "code",
   "execution_count": 12,
   "metadata": {},
   "outputs": [],
   "source": [
    "class RNN(nn.Module):\n",
    "    \n",
    "    def __init__(self, vocab_size, output_size, embedding_dim, hidden_dim, n_layers, dropout=0.5):\n",
    "        \"\"\"\n",
    "        Initialize the PyTorch RNN Module\n",
    "        :param vocab_size: The number of input dimensions of the neural network (the size of the vocabulary)\n",
    "        :param output_size: The number of output dimensions of the neural network\n",
    "        :param embedding_dim: The size of embeddings, should you choose to use them        \n",
    "        :param hidden_dim: The size of the hidden layer outputs\n",
    "        :param dropout: dropout to add in between LSTM/GRU layers\n",
    "        \"\"\"\n",
    "        super().__init__()\n",
    "        self.embed = nn.Embedding(num_embeddings=vocab_size, embedding_dim=embedding_dim)\n",
    "        self.lstm = nn.LSTM(input_size=embedding_dim, hidden_size=hidden_dim, num_layers=n_layers, batch_first=True, dropout=dropout)\n",
    "        self.fc = nn.Linear(in_features=hidden_dim, out_features=output_size)\n",
    "        self.fc_dropout = nn.Dropout(p=dropout)\n",
    "        self.device = \"cuda\" if torch.cuda.is_available() else \"cpu\"\n",
    "    \n",
    "    def forward(self, nn_input, hidden):\n",
    "        \"\"\"\n",
    "        Forward propagation of the neural network\n",
    "        :param nn_input: The input to the neural network\n",
    "        :param hidden: The hidden state        \n",
    "        :return: Two Tensors, the output of the neural network and the latest hidden state\n",
    "        \"\"\"\n",
    "        long_int_input = nn_input.type(torch.LongTensor).to(self.device)\n",
    "        embedded_input = self.embed(long_int_input)\n",
    "        lstm_outputs, new_hidden = self.lstm(embedded_input, hidden)\n",
    "        last_lstm_output = lstm_outputs[:,-1,:]\n",
    "        last_lstm_output = self.fc_dropout(last_lstm_output)\n",
    "        decoded_output = self.fc(last_lstm_output)\n",
    "        \n",
    "        return decoded_output, new_hidden\n",
    "    \n",
    "    \n",
    "    def init_hidden(self, batch_size):\n",
    "        '''\n",
    "        Initialize the hidden state of an LSTM/GRU\n",
    "        :param batch_size: The batch_size of the hidden state\n",
    "        :return: hidden state of dims (n_layers, batch_size, hidden_dim)\n",
    "        '''\n",
    "        state_size = (self.lstm.num_layers, batch_size, self.lstm.hidden_size)\n",
    "        h = torch.zeros(size=state_size, device=self.device)\n",
    "        c = torch.zeros(size=state_size, device=self.device)\n",
    "        hidden_state = (h,c)\n",
    "        return hidden_state"
   ]
  },
  {
   "cell_type": "code",
   "execution_count": 13,
   "metadata": {},
   "outputs": [],
   "source": [
    "class PositionalEncoding(nn.Module):\n",
    "    def __init__(self, dimension: int, dropout: int=0.1, max_length: int=5000):\n",
    "        super().__init__()\n",
    "        self.dropout = nn.Dropout(p=dropout)\n",
    "        positional_values = self.__generate_position_values(dimension, max_length)\n",
    "        self.register_buffer(\"positional_values\", positional_values)\n",
    "        \n",
    "    @staticmethod\n",
    "    def __generate_position_values(dimension: int, max_length: int):\n",
    "        values = torch.zeros(max_length, dimension)\n",
    "        positions = torch.arange(0, max_length, dtype=torch.float)\n",
    "        positions = positions.unsqueeze(1)\n",
    "        \n",
    "        scaling_steps = torch.arange(0, dimension, 2).float()\n",
    "        scaling = torch.exp(scaling_steps * (-math.log(10000.0)/dimension))\n",
    "        \n",
    "        values[:, 0::2] = torch.sin(positions * scaling)\n",
    "        values[:, 1::2] = torch.cos(positions * scaling)\n",
    "        values = values.unsqueeze(0).transpose(0, 1)\n",
    "        \n",
    "        return values\n",
    "    \n",
    "    def forward(self, x):\n",
    "        x = x + self.positional_values[:x.size(0), :]\n",
    "        return self.dropout(x)"
   ]
  },
  {
   "cell_type": "code",
   "execution_count": 14,
   "metadata": {},
   "outputs": [],
   "source": [
    "class TransformerScriptGenerator(nn.Module):\n",
    "    def __init__(self,\n",
    "                 vocabulary_size: int,\n",
    "                 embedding_dim: int,\n",
    "                 attention_head_count: int,\n",
    "                 encoder_fc_dim: int,\n",
    "                 encoder_layer_count: int,\n",
    "                 dropout: int=0.5) -> None:\n",
    "        \n",
    "        super().__init__()\n",
    "        \n",
    "        self.input_mask = None\n",
    "        self.embedding = nn.Embedding(vocabulary_size, embedding_dim)\n",
    "        self.embedding_scale = math.sqrt(embedding_dim)\n",
    "        self.positional_encoder = PositionalEncoding(embedding_dim, dropout)\n",
    "        encoder_layers = nn.TransformerEncoderLayer(embedding_dim, attention_head_count, encoder_fc_dim, dropout)\n",
    "        self.transformer_encoder = nn.TransformerEncoder(encoder_layers, encoder_layer_count)\n",
    "        self.embedding_dim = embedding_dim\n",
    "        self.decoder = nn.Linear(embedding_dim, vocabulary_size)\n",
    "        \n",
    "        self.__init_weights()\n",
    "        \n",
    "    def __init_weights(self) -> None:\n",
    "        value_range = 0.1\n",
    "        self.embedding.weight.data.uniform_(-value_range, value_range)\n",
    "        self.decoder.bias.data.zero_()\n",
    "        self.decoder.weight.data.uniform_(-value_range, value_range)\n",
    "        \n",
    "    @staticmethod\n",
    "    def __generate_input_mask(mask_size: int) -> torch.Tensor():\n",
    "        mask = torch.ones(mask_size, mask_size, dtype=bool)\n",
    "        mask = torch.triu(mask).t().float()\n",
    "        mask = mask.masked_fill(mask == 0, float('-inf'))\n",
    "        mask = mask.masked_fill(mask == 1, 0.0)\n",
    "        return mask\n",
    "    \n",
    "    @staticmethod\n",
    "    def __get_output_for_last_word(full_output: torch.Tensor) -> torch.Tensor:\n",
    "        return full_output[:,-1,:]\n",
    "    \n",
    "    def forward(self, input: torch.Tensor) -> torch.Tensor:\n",
    "        mask_size = input.shape[0]\n",
    "        if self.input_mask is None or self.input_mask.size(0) != mask_size:\n",
    "            self.input_mask = self.__generate_input_mask(mask_size).to(device)\n",
    "            \n",
    "        input = self.embedding(input) * self.embedding_scale\n",
    "        input = self.positional_encoder(input)\n",
    "        output = self.transformer_encoder(input, self.input_mask)\n",
    "        output = self.__get_output_for_last_word(output)\n",
    "        output = self.decoder(output)\n",
    "        return output"
   ]
  },
  {
   "cell_type": "code",
   "execution_count": 18,
   "metadata": {},
   "outputs": [],
   "source": [
    "def transformer_training_step(model: TransformerScriptGenerator, \n",
    "                              optimizer: nn.Module, \n",
    "                              criterion: nn.Module,\n",
    "                              input: torch.Tensor, \n",
    "                              target: torch.Tensor) -> torch.Tensor:\n",
    "    optimizer.zero_grad()\n",
    "    input_batch_second = input.to(device).t()\n",
    "    output = model(input_batch_second)\n",
    "    loss = criterion(output, target.to(device))\n",
    "    loss.backward()\n",
    "    nn.utils.clip_grad_norm_(model.parameters(), 2.0)\n",
    "    optimizer.step()\n",
    "    return loss"
   ]
  },
  {
   "cell_type": "code",
   "execution_count": 11,
   "metadata": {
    "collapsed": true
   },
   "outputs": [
    {
     "name": "stdout",
     "output_type": "stream",
     "text": [
      "tensor([[43, 44, 45, 46, 47],\n",
      "        [33, 34, 35, 36, 37],\n",
      "        [31, 32, 33, 34, 35],\n",
      "        [ 2,  3,  4,  5,  6],\n",
      "        [17, 18, 19, 20, 21],\n",
      "        [13, 14, 15, 16, 17],\n",
      "        [28, 29, 30, 31, 32],\n",
      "        [ 1,  2,  3,  4,  5],\n",
      "        [25, 26, 27, 28, 29],\n",
      "        [18, 19, 20, 21, 22]])\n",
      "torch.Size([5, 10, 128])\n"
     ]
    },
    {
     "data": {
      "text/plain": [
       "tensor([[[ 0.0479,  0.6834, -0.1532,  ...,  0.6726, -1.2294, -0.3489],\n",
       "         [-0.3361,  1.2168,  0.3205,  ...,  1.6006,  0.6945, -0.6341],\n",
       "         [-0.2127,  1.2319, -0.2411,  ..., -0.5731,  0.7166,  0.5457],\n",
       "         ...,\n",
       "         [-0.2693, -0.3433,  0.1277,  ...,  0.0927, -0.3072,  0.4069],\n",
       "         [-0.2754,  0.5777, -0.3360,  ...,  0.2872, -0.5546,  0.6101],\n",
       "         [ 0.6238,  0.7724, -0.1810,  ..., -0.7811, -0.8033, -0.3356]],\n",
       "\n",
       "        [[-0.2991,  0.3357,  0.7227,  ..., -0.1378, -0.9689,  0.2474],\n",
       "         [-1.1027,  0.5761,  0.7901,  ...,  0.9040, -0.3082, -0.0867],\n",
       "         [-0.1757,  0.7560,  0.4010,  ...,  0.6364, -0.4835,  0.2113],\n",
       "         ...,\n",
       "         [ 0.3324, -0.3580,  0.1099,  ...,  0.6830, -0.9911, -0.2817],\n",
       "         [ 1.3794, -0.0959,  0.1834,  ...,  0.4699,  0.1664, -0.0263],\n",
       "         [-0.5124,  0.9073,  1.0184,  ...,  0.0670,  0.1618, -0.0799]],\n",
       "\n",
       "        [[-0.6468,  0.0783,  0.2492,  ...,  0.0034, -0.8417, -1.4943],\n",
       "         [ 0.8239, -0.8418,  0.6622,  ...,  0.4875, -0.5260, -0.7276],\n",
       "         [ 0.5189, -0.1721, -0.5224,  ...,  0.2418,  0.3143, -1.0259],\n",
       "         ...,\n",
       "         [-0.3526,  0.3001,  0.7576,  ...,  0.9268,  0.3175, -0.7191],\n",
       "         [ 0.9701,  0.6695, -0.8388,  ..., -0.0351, -0.4271,  0.7626],\n",
       "         [ 0.4704,  0.7783,  0.5774,  ...,  0.2384, -0.2152, -0.3987]],\n",
       "\n",
       "        [[ 0.0334, -0.7772,  0.7550,  ...,  0.2406,  0.2963, -0.0923],\n",
       "         [ 0.1968,  0.1768,  0.8385,  ...,  0.5449, -0.2264,  0.1074],\n",
       "         [-0.1080, -0.0316,  0.1561,  ...,  0.0879, -0.0242, -0.3506],\n",
       "         ...,\n",
       "         [-0.4938, -0.3152,  0.4508,  ...,  0.6999, -0.7753, -0.4851],\n",
       "         [ 0.8600, -0.2826,  1.0407,  ...,  0.8958,  0.1153,  1.0048],\n",
       "         [ 0.7028, -0.4418,  2.0462,  ...,  0.5133, -0.5519, -0.0389]],\n",
       "\n",
       "        [[ 0.4321,  0.0228,  0.6175,  ...,  1.1278, -0.7915,  0.0153],\n",
       "         [-0.0947, -0.3224,  1.1383,  ...,  0.1228, -0.1764, -0.3028],\n",
       "         [ 0.1430,  0.7926, -0.1216,  ...,  0.1485,  0.3097, -0.3124],\n",
       "         ...,\n",
       "         [-0.0324, -0.0022,  0.9654,  ...,  0.3760, -0.6532, -0.6027],\n",
       "         [ 0.4472,  0.1018,  0.4952,  ..., -0.3638, -0.3352,  0.5928],\n",
       "         [ 0.4589, -0.4088,  1.0894,  ...,  0.7724, -0.1984, -0.3934]]],\n",
       "       device='cuda:0', grad_fn=<AddBackward0>)"
      ]
     },
     "execution_count": 11,
     "metadata": {},
     "output_type": "execute_result"
    }
   ],
   "source": [
    "model = TransformerScriptGenerator(1000, 128, 4, 1024, 5).to(device)\n",
    "print(sample_x)\n",
    "model(sample_x.t().to(device))"
   ]
  },
  {
   "cell_type": "markdown",
   "metadata": {},
   "source": [
    "## Neural Network Training"
   ]
  },
  {
   "cell_type": "code",
   "execution_count": 15,
   "metadata": {},
   "outputs": [],
   "source": [
    "def should_skip_batch(input_batch: torch.Tensor, batch_size: int) -> bool:\n",
    "    if input_batch.shape[1] != batch_size:\n",
    "        print(\"Invalid batch size; skipping.\")\n",
    "        return True\n",
    "    return False\n",
    "\n",
    "\n",
    "def train_transformer(model: TransformerScriptGenerator, \n",
    "                      optimizer: nn.Module, \n",
    "                      criterion: nn.Module,\n",
    "                      lr_adjuster: nn.Module,\n",
    "                      epoch_count: int,\n",
    "                      train_loader: DataLoader,\n",
    "                      batch_size: int) -> None:\n",
    "    \n",
    "    model.train()\n",
    "    print(f\"Training for {epoch_count} epochs...\")\n",
    "    \n",
    "    for epoch in range(epoch_count):\n",
    "        print(f\"Epoch {epoch}\")\n",
    "        total_batches = 0\n",
    "        total_loss = 0\n",
    "        \n",
    "        for inputs, targets in train_loader:\n",
    "            inputs.t_()\n",
    "            if should_skip_batch(inputs, batch_size):\n",
    "                continue\n",
    "            total_batches += 1\n",
    "            total_loss += transformer_training_step(model, optimizer, criterion, inputs, targets)\n",
    "            if total_batches%500 == 0:\n",
    "                print(f\"+ Average training loss: {total_loss / total_batches} for {total_batches} batches\")\n",
    "         \n",
    "        lr_adjuster.step()\n",
    "        print(f\"+ Average training loss: {total_loss / total_batches}\")\n",
    "    "
   ]
  },
  {
   "cell_type": "code",
   "execution_count": 16,
   "metadata": {},
   "outputs": [],
   "source": [
    "model = TransformerScriptGenerator(vocabulary_size=len(set(int_text))+1, # the extra word is the padding token\n",
    "                                   embedding_dim=1024, \n",
    "                                   attention_head_count=4, \n",
    "                                   encoder_fc_dim=512, \n",
    "                                   encoder_layer_count=3,\n",
    "                                   dropout=0.2).to(device)\n",
    "\n",
    "sequence_length = 30\n",
    "batch_size = 300\n",
    "train_loader = batch_data(int_text, sequence_length, batch_size)\n",
    "\n",
    "epoch_count = 1\n",
    "learning_rate = 0.001#5.0\n",
    "criterion = nn.CrossEntropyLoss()\n",
    "optimizer = torch.optim.Adam(model.parameters(), lr=learning_rate)#torch.optim.SGD(model.parameters(), lr=learning_rate)\n",
    "scheduler = torch.optim.lr_scheduler.StepLR(optimizer, 1.0, gamma=0.95)"
   ]
  },
  {
   "cell_type": "code",
   "execution_count": null,
   "metadata": {},
   "outputs": [],
   "source": [
    "train_transformer(model, optimizer, criterion, scheduler, epoch_count, train_loader, batch_size)"
   ]
  },
  {
   "cell_type": "markdown",
   "metadata": {},
   "source": [
    "## Generate TV Script\n",
    "With the network trained and saved, you'll use it to generate a new, \"fake\" Seinfeld TV script in this section.\n",
    "\n",
    "### Generate Text\n",
    "To generate the text, the network needs to start with a single word and repeat its predictions until it reaches a set length. You'll be using the `generate` function to do this. It takes a word id to start with, `prime_id`, and generates a set length of text, `predict_len`. Also note that it uses topk sampling to introduce some randomness in choosing the most likely next word, given an output set of word scores!"
   ]
  },
  {
   "cell_type": "code",
   "execution_count": 38,
   "metadata": {},
   "outputs": [],
   "source": [
    "def generate_with_transformer(rnn, prime_id, int_to_vocab, token_dict, pad_value, predict_len=100):\n",
    "    \"\"\"\n",
    "    Generate text using the neural network\n",
    "    :param decoder: The PyTorch Module that holds the trained neural network\n",
    "    :param prime_id: The word id to start the first prediction\n",
    "    :param int_to_vocab: Dict of word id keys to word values\n",
    "    :param token_dict: Dict of puncuation tokens keys to puncuation values\n",
    "    :param pad_value: The value used to pad a sequence\n",
    "    :param predict_len: The length of text to generate\n",
    "    :return: The generated text\n",
    "    \"\"\"\n",
    "    rnn.eval()\n",
    "    \n",
    "    # create a sequence (batch_size=1) with the prime_id\n",
    "    current_seq = np.full((1, sequence_length), pad_value)\n",
    "    current_seq[-1][-1] = prime_id\n",
    "    predicted = [int_to_vocab[prime_id]]\n",
    "    \n",
    "    for _ in range(predict_len):\n",
    "        current_seq = torch.LongTensor(current_seq).to(device)\n",
    "                \n",
    "        # get the output of the rnn\n",
    "        output = rnn(current_seq)\n",
    "        \n",
    "        # get the next word probabilities\n",
    "        p = F.softmax(output, dim=1).data.cpu()\n",
    "         \n",
    "        # use top_k sampling to get the index of the next word\n",
    "        top_k = 5\n",
    "        p, top_i = p.topk(top_k)\n",
    "        top_i = top_i.numpy().squeeze()\n",
    "        \n",
    "        # select the likely next word index with some element of randomness\n",
    "        p = p.numpy().squeeze()\n",
    "        word_i = np.random.choice(top_i, p=p/p.sum())\n",
    "        \n",
    "        # retrieve that word from the dictionary\n",
    "        word = int_to_vocab[word_i]\n",
    "        predicted.append(word)     \n",
    "        \n",
    "        current_seq = current_seq.cpu() # move to cpu\n",
    "        # the generated word becomes the next \"current sequence\" and the cycle can continue\n",
    "        current_seq = np.roll(current_seq, -1, 1)\n",
    "        current_seq[-1][-1] = word_i\n",
    "    \n",
    "    gen_sentences = ' '.join(predicted)\n",
    "    \n",
    "    # Replace punctuation tokens\n",
    "    for key, token in token_dict.items():\n",
    "        ending = ' ' if key in ['\\n', '(', '\"'] else ''\n",
    "        gen_sentences = gen_sentences.replace(' ' + token.lower(), key)\n",
    "    gen_sentences = gen_sentences.replace('\\n ', '\\n')\n",
    "    gen_sentences = gen_sentences.replace('( ', '(')\n",
    "    \n",
    "    # return all the sentences\n",
    "    return gen_sentences"
   ]
  },
  {
   "cell_type": "code",
   "execution_count": null,
   "metadata": {},
   "outputs": [],
   "source": [
    "gen_length = 400 # modify the length to your preference\n",
    "prime_word = 'kramer' # name for starting the script\n",
    "\n",
    "pad_word = helper.SPECIAL_WORDS['PADDING']\n",
    "generated_script = generate_with_transformer(model, vocab_to_int[prime_word + ':'], int_to_vocab, token_dict, vocab_to_int[pad_word], gen_length)\n",
    "print(generated_script)"
   ]
  },
  {
   "cell_type": "code",
   "execution_count": 19,
   "metadata": {},
   "outputs": [],
   "source": [
    "# save script to a text file\n",
    "f =  open(\"generated_script_1.txt\",\"w\")\n",
    "f.write(generated_script)\n",
    "f.close()"
   ]
  }
 ],
 "metadata": {
  "kernelspec": {
   "display_name": "Python 3",
   "language": "python",
   "name": "python3"
  },
  "language_info": {
   "codemirror_mode": {
    "name": "ipython",
    "version": 3
   },
   "file_extension": ".py",
   "mimetype": "text/x-python",
   "name": "python",
   "nbconvert_exporter": "python",
   "pygments_lexer": "ipython3",
   "version": "3.8.1"
  },
  "widgets": {
   "state": {},
   "version": "1.1.2"
  }
 },
 "nbformat": 4,
 "nbformat_minor": 1
}
